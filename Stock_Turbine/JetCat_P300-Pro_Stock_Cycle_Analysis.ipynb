{
 "cells": [
  {
   "cell_type": "markdown",
   "metadata": {},
   "source": [
    "<h1>JetCat P300-Pro Stock Cycle Analysis<h1>"
   ]
  },
  {
   "cell_type": "markdown",
   "metadata": {},
   "source": [
    "Package Import"
   ]
  },
  {
   "cell_type": "code",
   "execution_count": 1,
   "metadata": {},
   "outputs": [],
   "source": [
    "import math as m\n",
    "import numpy as np\n",
    "import pandas as pd\n"
   ]
  },
  {
   "cell_type": "markdown",
   "metadata": {},
   "source": [
    "<h2>Metric Calculations<h2>"
   ]
  },
  {
   "cell_type": "markdown",
   "metadata": {},
   "source": [
    "<h3>Metric Characteristics<h3>"
   ]
  },
  {
   "cell_type": "code",
   "execution_count": 2,
   "metadata": {},
   "outputs": [],
   "source": [
    "pressure_ratio = 3.55\n",
    "mdot_stock = 0.5\n",
    "stock_max_fuel_consumption_m = .980 # L/min\n",
    "stock_max_fuel_consumption_s = stock_max_fuel_consumption_m/60 # L/s\n",
    "stock_idle_fuel_consumption_m = 0.179 # L/min\n",
    "stock_idle_fuel_consumption_s = stock_idle_fuel_consumption_m/60 # L/s\n",
    "engine_mass = 2.730 # kg\n",
    "min_exhaust_gas_temp = 480+273.15 # K\n",
    "max_exhaust_gas_temp = 750+273.15 # K\n",
    "idle_rpm = 35000 # (1/min)\n",
    "max_rpm = 105000 # (1/min)\n",
    "idle_thrust = 14 #N\n",
    "max_stock_thrust = 300 #N\n",
    "max_reported_exhaust_gas_velocity = (2160 * (1/3600) * 1000) # m/s\n",
    "exhaust_gas_power_output = (90 * 1000)\n",
    "max_sfc = 0.157 # (kg/Nh)\n",
    "Tmax = 993 # K\n",
    "\n",
    "# https://www.jetcat.de/en/productdetails/produkte/jetcat/produkte/Professionell/p300%20pro"
   ]
  },
  {
   "cell_type": "markdown",
   "metadata": {},
   "source": [
    "<h3>Metric Dimensions<h3>"
   ]
  },
  {
   "cell_type": "code",
   "execution_count": 3,
   "metadata": {},
   "outputs": [],
   "source": [
    "starter_to_nozz_exit_length = .381\n",
    "entrance_to_nozz_exit_length = starter_to_nozz_exit_length-.080\n",
    "casing_width = .132\n",
    "casing_width_with_mounts = .188\n",
    "\n",
    "# nozzle\n",
    "turbine_exit_outer_diameter = .091\n",
    "nozzle_length = .104\n",
    "\n",
    "# Entrance - Estimated\n",
    "entrance_ID = .120 #m\n",
    "entrance_A = (m.pi*((entrance_ID/2)**2))\n",
    "\n"
   ]
  },
  {
   "cell_type": "markdown",
   "metadata": {},
   "source": [
    "<h4>Ambient Conditions<h4>"
   ]
  },
  {
   "cell_type": "code",
   "execution_count": 4,
   "metadata": {},
   "outputs": [],
   "source": [
    "Pa = 101325 # Pa\n",
    "Ta = 298 # K\n",
    "rho_a = 1.225 # kg/m^3\n",
    "R = 287.7 # J/(kg*K)\n",
    "Qr = (43.1)*(10**6) # Lower Heating Value of Kerosene\n",
    "\n",
    "# Make below variables dynamically calculate later on \n",
    "# --------------------------------------------------\n",
    "Gc = 1.4 # Freestream Gamma, ratio of specific heats\n",
    "Gh = 1.35 # Hot air Gamma, ratio of specific heats\n",
    "Cpc = ((Gc)/(Gc-1))*R # Cp for freestream gamma\n",
    "Cph = ((Gh)/(Gh-1))*R # Cp for compressed gamma\n",
    "# --------------------------------------------------\n"
   ]
  },
  {
   "cell_type": "markdown",
   "metadata": {},
   "source": [
    "Ambient through Inlet"
   ]
  },
  {
   "cell_type": "code",
   "execution_count": 5,
   "metadata": {},
   "outputs": [],
   "source": [
    "u1 = mdot_stock/(rho_a*entrance_A)\n",
    "a1 = m.sqrt(Ta*Gc*R)\n",
    "M1 = u1/a1\n",
    "To1 = Ta + ((u1**2)/(2*Cpc)) # Stagnation Temperature in the Inlet\n",
    "Po1 = Pa*(1+((u1**2)/(2*Cpc*Ta)))**((Gc)/(Gc-1)) # Stagnation Pressure in the Inlet"
   ]
  },
  {
   "cell_type": "markdown",
   "metadata": {},
   "source": [
    "<h4>Inlet to Compressor<h4>"
   ]
  },
  {
   "cell_type": "code",
   "execution_count": 6,
   "metadata": {},
   "outputs": [],
   "source": [
    "# Conservation of mass \n",
    "u2 = mdot_stock/(rho_a*entrance_A)\n",
    "\n",
    "Nc = np.linspace(.5, 1, 1000) # Guess Compressor Efficiency \n",
    "Po2 = Pa * pressure_ratio\n",
    "To2 =  (1+(1/Nc)*(pressure_ratio**((1.4-1)/(1.4))-1))*To1"
   ]
  },
  {
   "cell_type": "markdown",
   "metadata": {},
   "source": [
    "Compressor Through Combustor"
   ]
  },
  {
   "cell_type": "code",
   "execution_count": 7,
   "metadata": {},
   "outputs": [],
   "source": [
    "f = .000144 # fuel/air mixture ratio\n",
    "Nm = np.linspace(.5, 1, 1000) # Generate 1000 Mechanical Efficiency Values\n",
    "Nb = np.linspace(.5, 1, 1000) # Generate 1000 Combustor Efficiency Values\n",
    "To3 = ((Cpc*To2)+(Nb*f*Qr))/((1+f)*Cph) # Stagnation Temperature in the Combustor"
   ]
  },
  {
   "cell_type": "code",
   "execution_count": 8,
   "metadata": {},
   "outputs": [],
   "source": [
    "fcombustion = abs(((To3/To2)-1)/(((Nb*Qr)/(Cph*To2))-(To3/To2))) # Fuel/air ratio for fuel burning\n",
    "fcombustion = abs(((Tmax/To2)-1)/(((Nb*Qr)/(Cph*To2))-(Tmax/To2)))\n",
    "To3 = ((Cpc*To2)+(Nb*fcombustion*Qr))/((1+fcombustion)*Cph) # Combustor Temperature after heat addition from fuel combusting\n",
    "Pb = np.linspace(0, .10, 1000); # Generate 1000 Values for Pressure loss in the combustor \n",
    "Po3 = Po2 - (1*(Po2*Pb)) # Stagnation Pressure with loss in the combustor"
   ]
  },
  {
   "cell_type": "markdown",
   "metadata": {},
   "source": [
    "Combustor Through Turbine"
   ]
  },
  {
   "cell_type": "code",
   "execution_count": 9,
   "metadata": {},
   "outputs": [],
   "source": [
    "To4 = Tmax + ((Cpc/Cph)*(To3-To2)) # Stagnation Temperature in the Turbine\n",
    "To4Actual = To4-To2 # This correction here results in a correct outlet temperature. The above equation results in a temperature much higher than the combustor. This is also concistent with the Inconel 718 temperature being rated to around 993 degrees Kelvin\n",
    "To4Prime = To3-(To3-To4) # \n",
    "Po4 = Po3*((To4Actual/To3)**((Gh)/(Gh-1))) # The Stagnation Pressure in the turbine \n",
    "Po4Pa = Po4/Pa # Check Critical Pressure Ratio "
   ]
  },
  {
   "cell_type": "markdown",
   "metadata": {},
   "source": [
    "Turbine Through Nozzle"
   ]
  },
  {
   "cell_type": "code",
   "execution_count": 10,
   "metadata": {},
   "outputs": [
    {
     "ename": "TypeError",
     "evalue": "only length-1 arrays can be converted to Python scalars",
     "output_type": "error",
     "traceback": [
      "\u001b[1;31m---------------------------------------------------------------------------\u001b[0m",
      "\u001b[1;31mTypeError\u001b[0m                                 Traceback (most recent call last)",
      "Cell \u001b[1;32mIn[10], line 5\u001b[0m\n\u001b[0;32m      1\u001b[0m T5 \u001b[38;5;241m=\u001b[39m (\u001b[38;5;241m2\u001b[39m\u001b[38;5;241m/\u001b[39m(Gh\u001b[38;5;241m+\u001b[39m\u001b[38;5;241m1\u001b[39m))\u001b[38;5;241m*\u001b[39mTo4Actual \u001b[38;5;66;03m# Static Temperature at Nozzle Exit\u001b[39;00m\n\u001b[0;32m      3\u001b[0m P5 \u001b[38;5;241m=\u001b[39m Po4\u001b[38;5;241m*\u001b[39m(\u001b[38;5;241m1.\u001b[39m\u001b[38;5;241m/\u001b[39mPo4Pa) \u001b[38;5;66;03m# Static Pressure at Nozzle Exit\u001b[39;00m\n\u001b[1;32m----> 5\u001b[0m a5 \u001b[38;5;241m=\u001b[39m m\u001b[38;5;241m.\u001b[39msqrt(Gh\u001b[38;5;241m*\u001b[39mR\u001b[38;5;241m*\u001b[39mT5) \u001b[38;5;66;03m# Mach velocity at Nozzle Exit\u001b[39;00m\n\u001b[0;32m      7\u001b[0m AreaBetweenInnerAndOuter \u001b[38;5;241m=\u001b[39m ((m\u001b[38;5;241m.\u001b[39mpi\u001b[38;5;241m/\u001b[39m\u001b[38;5;241m4\u001b[39m)\u001b[38;5;241m*\u001b[39m(\u001b[38;5;241m.049\u001b[39m\u001b[38;5;241m*\u001b[39m\u001b[38;5;241m*\u001b[39m\u001b[38;5;241m2\u001b[39m))\u001b[38;5;241m-\u001b[39m(m\u001b[38;5;241m.\u001b[39mpi\u001b[38;5;241m/\u001b[39m\u001b[38;5;241m4\u001b[39m\u001b[38;5;241m*\u001b[39m(\u001b[38;5;241m.03733\u001b[39m\u001b[38;5;241m*\u001b[39m\u001b[38;5;241m*\u001b[39m\u001b[38;5;241m2\u001b[39m)) \u001b[38;5;66;03m# Close to Averaged Calculation between inner cone and outer nozzle shell\u001b[39;00m\n\u001b[0;32m      9\u001b[0m u5 \u001b[38;5;241m=\u001b[39m (mdot_stock\u001b[38;5;241m/\u001b[39m(rho_a\u001b[38;5;241m*\u001b[39mAreaBetweenInnerAndOuter)) \u001b[38;5;66;03m# Exit Velocity at the nozzle\u001b[39;00m\n",
      "\u001b[1;31mTypeError\u001b[0m: only length-1 arrays can be converted to Python scalars"
     ]
    }
   ],
   "source": [
    "T5 = (2/(Gh+1))*To4Actual # Static Temperature at Nozzle Exit\n",
    "\n",
    "P5 = Po4*(1./Po4Pa) # Static Pressure at Nozzle Exit\n",
    "\n",
    "a5 = m.sqrt(Gh*R*T5) # Mach velocity at Nozzle Exit\n",
    "\n",
    "AreaBetweenInnerAndOuter = ((m.pi/4)*(.049**2))-(m.pi/4*(.03733**2)) # Close to Averaged Calculation between inner cone and outer nozzle shell\n",
    "\n",
    "u5 = (mdot_stock/(rho_a*AreaBetweenInnerAndOuter)) # Exit Velocity at the nozzle\n",
    "\n",
    "A5overMdot = (m.pi*((.00762/2)**2))/(mdot_stock) # Exit Area / Mass Flow \n",
    "\n",
    "ThrustFinal = (((1+fcombustion)*u5)-u1) + (A5overMdot*(P5-Pa)) # Thrust Calculation"
   ]
  }
 ],
 "metadata": {
  "kernelspec": {
   "display_name": "base",
   "language": "python",
   "name": "python3"
  },
  "language_info": {
   "codemirror_mode": {
    "name": "ipython",
    "version": 3
   },
   "file_extension": ".py",
   "mimetype": "text/x-python",
   "name": "python",
   "nbconvert_exporter": "python",
   "pygments_lexer": "ipython3",
   "version": "3.12.4"
  }
 },
 "nbformat": 4,
 "nbformat_minor": 2
}
